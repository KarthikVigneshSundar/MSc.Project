{
 "cells": [
  {
   "cell_type": "markdown",
   "id": "1cad694b-d36e-4b85-a0b6-e03f1ad7ec01",
   "metadata": {},
   "source": [
    "# Import packages:"
   ]
  },
  {
   "cell_type": "code",
   "execution_count": 1,
   "id": "940bc869-c835-4538-b43d-af7fcbda4d34",
   "metadata": {},
   "outputs": [
    {
     "name": "stderr",
     "output_type": "stream",
     "text": [
      "D:\\python38\\lib\\site-packages\\numpy\\_distributor_init.py:30: UserWarning: loaded more than 1 DLL from .libs:\n",
      "D:\\python38\\lib\\site-packages\\numpy\\.libs\\libopenblas.PYQHXLVVQ7VESDPUVUADXEVJOBGHJPAY.gfortran-win_amd64.dll\n",
      "D:\\python38\\lib\\site-packages\\numpy\\.libs\\libopenblas.XWYDX2IKJW2NMTWSFYNGFUWKQU3LYTCZ.gfortran-win_amd64.dll\n",
      "  warnings.warn(\"loaded more than 1 DLL from .libs:\"\n"
     ]
    }
   ],
   "source": [
    "from openbiolink.obl2021 import OBL2021Dataset\n",
    "import torch.nn as nn\n",
    "from torch.utils.data import DataLoader,TensorDataset\n",
    "import math"
   ]
  },
  {
   "cell_type": "markdown",
   "id": "a44f9f09-aebf-474c-b1c7-93dff25e026d",
   "metadata": {
    "tags": []
   },
   "source": [
    "# Accessing Data:"
   ]
  },
  {
   "cell_type": "code",
   "execution_count": 2,
   "id": "dd940b1b-da8d-4968-a340-d3a162b7ed7a",
   "metadata": {},
   "outputs": [
    {
     "name": "stdout",
     "output_type": "stream",
     "text": [
      "Dataset found in D:\\programming repo-1\\university of glasgow\\msc project\\MSc.Project\\obl2021, omitting download...\n"
     ]
    }
   ],
   "source": [
    "obl_dataset = OBL2021Dataset()"
   ]
  },
  {
   "cell_type": "code",
   "execution_count": 3,
   "id": "0b5b5355-08ff-4e87-848f-49695a6d0427",
   "metadata": {},
   "outputs": [],
   "source": [
    "# get the training, validation and test sets\n",
    "\n",
    "obl_train_dataset = obl_dataset.training\n",
    "obl_valid_dataset = obl_dataset.validation\n",
    "obl_test_dataset = obl_dataset.testing"
   ]
  },
  {
   "cell_type": "code",
   "execution_count": 4,
   "id": "54eeb4ec-9039-4f85-99f1-fd561037c703",
   "metadata": {},
   "outputs": [
    {
     "name": "stdout",
     "output_type": "stream",
     "text": [
      "The shape of the training tensor is :  torch.Size([4192002, 3])\n",
      "The the data type of the training tensor is :  torch.int64\n"
     ]
    }
   ],
   "source": [
    "#checking out the tensor shape\n",
    "print('The shape of the training tensor is : ', obl_train_dataset.shape)\n",
    "\n",
    "#checking out the tensor dtype\n",
    "print('The the data type of the training tensor is : ', obl_train_dataset.dtype)"
   ]
  },
  {
   "cell_type": "markdown",
   "id": "5a40f15b-19fa-48f0-9d5f-93190d611905",
   "metadata": {},
   "source": [
    "# Embedding Models:\n",
    "\n",
    "## TransE:"
   ]
  },
  {
   "cell_type": "code",
   "execution_count": 5,
   "id": "ecc24a83-2056-40b6-90e4-98ecda932329",
   "metadata": {},
   "outputs": [],
   "source": [
    "class TransE(nn.Module):\n",
    "    def __init__(self, device, num_entity, num_relation, emb_dim, gamma):\n",
    "        super(TransE, self).__init__()\n",
    "        self.device = device\n",
    "        self.emb_dim = emb_dim\n",
    "        self.num_entity = num_entity\n",
    "        self.num_relation = num_relation\n",
    "        \n",
    "        #initialize entity embeddings\n",
    "        self.entity_emb = self.initialize_emb(self.num_entity, self.emb_dim)\n",
    "\n",
    "        #initialie relation embeddings\n",
    "        self.relation_emb = self.initialize_emb(self.num_relation, self.emb_dim)\n",
    "        self.relation_emb.weight.data.div_(self.relation_emb.weight.data.norm(p=2, dim=1, keepdim=True))\n",
    "        #create the loss function\n",
    "        loss_fn = nn.MarginRankingLoss(margin=gamma)\n",
    "        \n",
    "\n",
    "    def initialize_emb(self, num_emb, emb_dim):\n",
    "        emb_weight_range = 6 / math.sqrt(emb_dim)\n",
    "        emb = nn.Embedding(num_embeddings=num_emb, embedding_dim=emb_dim)\n",
    "        emb.weight.data.uniform_( -emb_weight_range, emb_weight_range )\n",
    "        return emb\n",
    "    \n",
    "    def forward(self, pos_triplet, neg_triplet):\n",
    "        self.entity_emb.weight.data.div_(self.entity_emb.weight.data.norm(p=2, dim=1, keepdim=True))\n",
    "        pos_distance = cal_distance(pos_triplet)\n",
    "        neg_distance = cal_distance(neg_triplet)\n",
    "        return loss_fn(pos_distance, neg_distance, torch.tensor([-1], dtype=torch.int64, device=self.device))\n",
    "    \n",
    "    def cal_distance(self, triplet):\n",
    "        head = triplet[:,0]\n",
    "        relation = triplet[:,1]\n",
    "        tail = triplet[:,2]\n",
    "        return (self.entity_emb(head) + self.relation(relation) - self.entity_emb(tail))\n",
    "       \n",
    "        "
   ]
  },
  {
   "cell_type": "code",
   "execution_count": 6,
   "id": "76939c0b-2475-4fd3-9792-e5b54fd7947b",
   "metadata": {},
   "outputs": [],
   "source": [
    "transE_model = TransE(device = 'cuda', num_entity = 100, num_relation = 10, emb_dim = 100, gamma = 0.1)"
   ]
  },
  {
   "cell_type": "code",
   "execution_count": null,
   "id": "dd42b2b6-c9a5-4fe2-af05-e58da2572646",
   "metadata": {},
   "outputs": [],
   "source": [
    "def train_transE():\n",
    "    for i in range(epoch):\n",
    "        for index, batch_data in enumerate():"
   ]
  }
 ],
 "metadata": {
  "kernelspec": {
   "display_name": "Python 3 (ipykernel)",
   "language": "python",
   "name": "python3"
  },
  "language_info": {
   "codemirror_mode": {
    "name": "ipython",
    "version": 3
   },
   "file_extension": ".py",
   "mimetype": "text/x-python",
   "name": "python",
   "nbconvert_exporter": "python",
   "pygments_lexer": "ipython3",
   "version": "3.8.5"
  }
 },
 "nbformat": 4,
 "nbformat_minor": 5
}
